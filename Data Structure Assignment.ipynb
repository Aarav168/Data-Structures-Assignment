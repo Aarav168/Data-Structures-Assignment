{
 "cells": [
  {
   "cell_type": "code",
   "execution_count": 1,
   "id": "53f1037d-2b88-4e6c-b665-1ad15bed497e",
   "metadata": {},
   "outputs": [
    {
     "name": "stdout",
     "output_type": "stream",
     "text": [
      "My name is: YourName\n"
     ]
    }
   ],
   "source": [
    "# Creating a string with my name and printing it\n",
    "\n",
    "my_name = \"YourName\"  # Replace \"YourName\" with your actual name\n",
    "print(\"My name is:\", my_name)"
   ]
  },
  {
   "cell_type": "code",
   "execution_count": 3,
   "id": "41c66410-d189-4c2e-9567-8d5cb6396671",
   "metadata": {},
   "outputs": [
    {
     "name": "stdout",
     "output_type": "stream",
     "text": [
      "Length of the string is: 11\n"
     ]
    }
   ],
   "source": [
    "# Finding the length of the string \"Hello World\"\n",
    "\n",
    "my_string = \"Hello World\"\n",
    "string_length = len(my_string)\n",
    "print(\"Length of the string is:\", string_length)\n"
   ]
  },
  {
   "cell_type": "code",
   "execution_count": 5,
   "id": "dacef6b6-2c20-46b9-9e53-8920dbb8d284",
   "metadata": {},
   "outputs": [
    {
     "name": "stdout",
     "output_type": "stream",
     "text": [
      "First 3 characters are: Pyt\n"
     ]
    }
   ],
   "source": [
    "# Slicing the first 3 characters from the string \"Python Programming\"\n",
    "\n",
    "my_string = \"Python Programming\"\n",
    "sliced_string = my_string[:3]\n",
    "print(\"First 3 characters are:\", sliced_string)\n"
   ]
  },
  {
   "cell_type": "code",
   "execution_count": 7,
   "id": "427f5605-4e2b-4ba4-92fa-19505b941051",
   "metadata": {},
   "outputs": [
    {
     "name": "stdout",
     "output_type": "stream",
     "text": [
      "Uppercase version: HELLO\n"
     ]
    }
   ],
   "source": [
    "# Converting the string \"hello\" to uppercase\n",
    "\n",
    "my_string = \"hello\"\n",
    "uppercase_string = my_string.upper()\n",
    "print(\"Uppercase version:\", uppercase_string)\n"
   ]
  },
  {
   "cell_type": "code",
   "execution_count": 9,
   "id": "a7c9bbb8-dc42-4c03-85b2-e50ee7ff731c",
   "metadata": {},
   "outputs": [
    {
     "name": "stdout",
     "output_type": "stream",
     "text": [
      "Updated string: I like orange\n"
     ]
    }
   ],
   "source": [
    "# Replacing the word \"apple\" with \"orange\" in the string\n",
    "\n",
    "my_string = \"I like apple\"\n",
    "new_string = my_string.replace(\"apple\", \"orange\")\n",
    "print(\"Updated string:\", new_string)\n"
   ]
  },
  {
   "cell_type": "code",
   "execution_count": 11,
   "id": "6b86c905-28f6-4967-b832-91951de948ea",
   "metadata": {},
   "outputs": [
    {
     "name": "stdout",
     "output_type": "stream",
     "text": [
      "The list is: [1, 2, 3, 4, 5]\n"
     ]
    }
   ],
   "source": [
    "# Creating a list with numbers 1 to 5 and printing it\n",
    "\n",
    "my_list = [1, 2, 3, 4, 5]\n",
    "print(\"The list is:\", my_list)\n"
   ]
  },
  {
   "cell_type": "code",
   "execution_count": 13,
   "id": "d2f76103-bac4-47c1-8a34-9834e5235634",
   "metadata": {},
   "outputs": [
    {
     "name": "stdout",
     "output_type": "stream",
     "text": [
      "Updated list: [1, 2, 3, 4, 10]\n"
     ]
    }
   ],
   "source": [
    "# Appending the number 10 to the list [1, 2, 3, 4]\n",
    "\n",
    "my_list = [1, 2, 3, 4]\n",
    "my_list.append(10)\n",
    "print(\"Updated list:\", my_list)\n"
   ]
  },
  {
   "cell_type": "code",
   "execution_count": 15,
   "id": "58020c49-dee3-4b13-8fbe-947b357b5edd",
   "metadata": {},
   "outputs": [
    {
     "name": "stdout",
     "output_type": "stream",
     "text": [
      "Updated list: [1, 2, 4, 5]\n"
     ]
    }
   ],
   "source": [
    "# Removing the number 3 from the list [1, 2, 3, 4, 5]\n",
    "\n",
    "my_list = [1, 2, 3, 4, 5]\n",
    "my_list.remove(3)\n",
    "print(\"Updated list:\", my_list)\n"
   ]
  },
  {
   "cell_type": "code",
   "execution_count": 17,
   "id": "2d7b2205-1083-42b0-8388-c308dd16948b",
   "metadata": {},
   "outputs": [
    {
     "name": "stdout",
     "output_type": "stream",
     "text": [
      "The second element is: b\n"
     ]
    }
   ],
   "source": [
    "# Accessing the second element in the list ['a', 'b', 'c', 'd']\n",
    "\n",
    "my_list = ['a', 'b', 'c', 'd']\n",
    "second_element = my_list[1]\n",
    "print(\"The second element is:\", second_element)\n"
   ]
  },
  {
   "cell_type": "code",
   "execution_count": 19,
   "id": "f41afb59-770a-441c-9a52-e818dbe6a511",
   "metadata": {},
   "outputs": [
    {
     "name": "stdout",
     "output_type": "stream",
     "text": [
      "Reversed list: [50, 40, 30, 20, 10]\n"
     ]
    }
   ],
   "source": [
    "# Reversing the list [10, 20, 30, 40, 50]\n",
    "\n",
    "my_list = [10, 20, 30, 40, 50]\n",
    "my_list.reverse()\n",
    "print(\"Reversed list:\", my_list)\n"
   ]
  },
  {
   "cell_type": "code",
   "execution_count": 21,
   "id": "dd8767ff-69c7-457f-95b0-d9e2b5bc8edd",
   "metadata": {},
   "outputs": [
    {
     "name": "stdout",
     "output_type": "stream",
     "text": [
      "The tuple is: (100, 200, 300)\n"
     ]
    }
   ],
   "source": [
    "# Creating a tuple with the elements 100, 200, 300 and printing it\n",
    "\n",
    "my_tuple = (100, 200, 300)\n",
    "print(\"The tuple is:\", my_tuple)\n"
   ]
  },
  {
   "cell_type": "code",
   "execution_count": 23,
   "id": "1c6694d2-8523-4c89-b5ed-01e5c8628c00",
   "metadata": {},
   "outputs": [
    {
     "name": "stdout",
     "output_type": "stream",
     "text": [
      "The second-to-last element is: blue\n"
     ]
    }
   ],
   "source": [
    "# Accessing the second-to-last element of the tuple ('red', 'green', 'blue', 'yellow')\n",
    "\n",
    "my_tuple = ('red', 'green', 'blue', 'yellow')\n",
    "second_to_last_element = my_tuple[-2]\n",
    "print(\"The second-to-last element is:\", second_to_last_element)\n"
   ]
  },
  {
   "cell_type": "code",
   "execution_count": 25,
   "id": "b63cbbbe-5bdf-42c7-913f-a8bcb120ab4c",
   "metadata": {},
   "outputs": [
    {
     "name": "stdout",
     "output_type": "stream",
     "text": [
      "The minimum number is: 5\n"
     ]
    }
   ],
   "source": [
    "# Finding the minimum number in the tuple (10, 20, 5, 15)\n",
    "\n",
    "my_tuple = (10, 20, 5, 15)\n",
    "min_value = min(my_tuple)\n",
    "print(\"The minimum number is:\", min_value)\n"
   ]
  },
  {
   "cell_type": "code",
   "execution_count": 27,
   "id": "ef4b6b96-6320-4d02-8b7e-78507163a56b",
   "metadata": {},
   "outputs": [
    {
     "name": "stdout",
     "output_type": "stream",
     "text": [
      "The index of 'cat' is: 1\n"
     ]
    }
   ],
   "source": [
    "# Finding the index of the element \"cat\" in the tuple ('dog', 'cat', 'rabbit')\n",
    "\n",
    "my_tuple = ('dog', 'cat', 'rabbit')\n",
    "index_of_cat = my_tuple.index(\"cat\")\n",
    "print(\"The index of 'cat' is:\", index_of_cat)\n"
   ]
  },
  {
   "cell_type": "code",
   "execution_count": 29,
   "id": "8f1ad2ed-59f6-4000-aaad-a719996dbf16",
   "metadata": {},
   "outputs": [
    {
     "name": "stdout",
     "output_type": "stream",
     "text": [
      "Is 'kiwi' in the tuple? False\n"
     ]
    }
   ],
   "source": [
    "# Creating a tuple containing three different fruits and checking if \"kiwi\" is in it\n",
    "\n",
    "fruit_tuple = ('apple', 'banana', 'cherry')\n",
    "is_kiwi_in_tuple = \"kiwi\" in fruit_tuple\n",
    "print(\"Is 'kiwi' in the tuple?\", is_kiwi_in_tuple)\n"
   ]
  },
  {
   "cell_type": "code",
   "execution_count": 31,
   "id": "9f5a2b5c-1e51-47bb-b503-eeecd268d141",
   "metadata": {},
   "outputs": [
    {
     "name": "stdout",
     "output_type": "stream",
     "text": [
      "The set is: {'a', 'b', 'c'}\n"
     ]
    }
   ],
   "source": [
    "# Creating a set with the elements 'a', 'b', 'c' and printing it\n",
    "\n",
    "my_set = {'a', 'b', 'c'}\n",
    "print(\"The set is:\", my_set)\n"
   ]
  },
  {
   "cell_type": "code",
   "execution_count": 33,
   "id": "c7458468-8dfc-4313-a383-0f592b348e33",
   "metadata": {},
   "outputs": [
    {
     "name": "stdout",
     "output_type": "stream",
     "text": [
      "The set after clearing all elements: set()\n"
     ]
    }
   ],
   "source": [
    "# Clearing all elements from the set {1, 2, 3, 4, 5}\n",
    "\n",
    "my_set = {1, 2, 3, 4, 5}\n",
    "my_set.clear()\n",
    "print(\"The set after clearing all elements:\", my_set)\n"
   ]
  },
  {
   "cell_type": "code",
   "execution_count": 35,
   "id": "074119c5-18fb-4aa6-b92e-7b654a2c0e7b",
   "metadata": {},
   "outputs": [
    {
     "name": "stdout",
     "output_type": "stream",
     "text": [
      "The set after removing 4: {1, 2, 3}\n"
     ]
    }
   ],
   "source": [
    "# Removing the element 4 from the set {1, 2, 3, 4}\n",
    "\n",
    "my_set = {1, 2, 3, 4}\n",
    "my_set.remove(4)\n",
    "print(\"The set after removing 4:\", my_set)\n"
   ]
  },
  {
   "cell_type": "code",
   "execution_count": 37,
   "id": "ff703ae3-4f27-4aa8-8702-efffbc262c1e",
   "metadata": {},
   "outputs": [
    {
     "name": "stdout",
     "output_type": "stream",
     "text": [
      "The union of the sets is: {1, 2, 3, 4, 5}\n"
     ]
    }
   ],
   "source": [
    "# Finding the union of two sets {1, 2, 3} and {3, 4, 5}\n",
    "\n",
    "set1 = {1, 2, 3}\n",
    "set2 = {3, 4, 5}\n",
    "union_set = set1.union(set2)\n",
    "print(\"The union of the sets is:\", union_set)\n"
   ]
  },
  {
   "cell_type": "code",
   "execution_count": 39,
   "id": "bb4f9654-d6be-4f95-b4cb-50d2bd71413a",
   "metadata": {},
   "outputs": [
    {
     "name": "stdout",
     "output_type": "stream",
     "text": [
      "The intersection of the sets is: {2, 3}\n"
     ]
    }
   ],
   "source": [
    "# Finding the intersection of two sets {1, 2, 3} and {2, 3, 4}\n",
    "\n",
    "set1 = {1, 2, 3}\n",
    "set2 = {2, 3, 4}\n",
    "intersection_set = set1.intersection(set2)\n",
    "print(\"The intersection of the sets is:\", intersection_set)\n"
   ]
  },
  {
   "cell_type": "code",
   "execution_count": 41,
   "id": "4a39577a-6ff5-40fb-9e38-734699ce68c0",
   "metadata": {},
   "outputs": [
    {
     "name": "stdout",
     "output_type": "stream",
     "text": [
      "The dictionary is: {'name': 'John', 'age': 25, 'city': 'New York'}\n"
     ]
    }
   ],
   "source": [
    "# Creating a dictionary with the keys \"name\", \"age\", and \"city\", and printing it\n",
    "\n",
    "my_dict = {\n",
    "    \"name\": \"John\",\n",
    "    \"age\": 25,\n",
    "    \"city\": \"New York\"\n",
    "}\n",
    "print(\"The dictionary is:\", my_dict)\n"
   ]
  },
  {
   "cell_type": "code",
   "execution_count": 43,
   "id": "96656411-37e4-4216-a28c-58f3d37144a3",
   "metadata": {},
   "outputs": [
    {
     "name": "stdout",
     "output_type": "stream",
     "text": [
      "Updated dictionary: {'name': 'John', 'age': 25, 'country': 'USA'}\n"
     ]
    }
   ],
   "source": [
    "# Adding a new key-value pair \"country\": \"USA\" to the dictionary\n",
    "\n",
    "my_dict = {'name': 'John', 'age': 25}\n",
    "my_dict[\"country\"] = \"USA\"\n",
    "print(\"Updated dictionary:\", my_dict)\n"
   ]
  },
  {
   "cell_type": "code",
   "execution_count": 45,
   "id": "9c787bef-a80f-475c-9d58-5f7c269fb220",
   "metadata": {},
   "outputs": [
    {
     "name": "stdout",
     "output_type": "stream",
     "text": [
      "The value associated with 'name' is: Alice\n"
     ]
    }
   ],
   "source": [
    "# Accessing the value associated with the key \"name\" in the dictionary\n",
    "\n",
    "my_dict = {'name': 'Alice', 'age': 30}\n",
    "name_value = my_dict[\"name\"]\n",
    "print(\"The value associated with 'name' is:\", name_value)\n"
   ]
  },
  {
   "cell_type": "code",
   "execution_count": 47,
   "id": "0658872a-138b-434a-8c45-cd689736031e",
   "metadata": {},
   "outputs": [
    {
     "name": "stdout",
     "output_type": "stream",
     "text": [
      "Updated dictionary: {'name': 'Bob', 'city': 'New York'}\n"
     ]
    }
   ],
   "source": [
    "# Removing the key \"age\" from the dictionary\n",
    "\n",
    "my_dict = {'name': 'Bob', 'age': 22, 'city': 'New York'}\n",
    "del my_dict[\"age\"]\n",
    "print(\"Updated dictionary:\", my_dict)\n"
   ]
  },
  {
   "cell_type": "code",
   "execution_count": 49,
   "id": "6a610295-42f3-4160-8b34-70513337dfdc",
   "metadata": {},
   "outputs": [
    {
     "name": "stdout",
     "output_type": "stream",
     "text": [
      "Does the key 'city' exist in the dictionary? True\n"
     ]
    }
   ],
   "source": [
    "# Checking if the key \"city\" exists in the dictionary\n",
    "\n",
    "my_dict = {'name': 'Alice', 'city': 'Paris'}\n",
    "key_exists = \"city\" in my_dict\n",
    "print(\"Does the key 'city' exist in the dictionary?\", key_exists)\n"
   ]
  },
  {
   "cell_type": "code",
   "execution_count": 51,
   "id": "3b1f1b75-d6c5-4f76-8c9f-b7d2c9826b51",
   "metadata": {},
   "outputs": [
    {
     "name": "stdout",
     "output_type": "stream",
     "text": [
      "List: [1, 2, 3, 4, 5]\n",
      "Tuple: ('apple', 'banana', 'cherry')\n",
      "Dictionary: {'name': 'John', 'age': 30, 'city': 'New York'}\n"
     ]
    }
   ],
   "source": [
    "# Creating a list, a tuple, and a dictionary, and printing them\n",
    "\n",
    "my_list = [1, 2, 3, 4, 5]\n",
    "my_tuple = ('apple', 'banana', 'cherry')\n",
    "my_dict = {'name': 'John', 'age': 30, 'city': 'New York'}\n",
    "\n",
    "print(\"List:\", my_list)\n",
    "print(\"Tuple:\", my_tuple)\n",
    "print(\"Dictionary:\", my_dict)\n"
   ]
  },
  {
   "cell_type": "code",
   "execution_count": 53,
   "id": "f8f31914-740a-4e0d-9ecf-2f490a56c1c2",
   "metadata": {},
   "outputs": [
    {
     "name": "stdout",
     "output_type": "stream",
     "text": [
      "Sorted list of random numbers: [1, 35, 60, 76, 92]\n"
     ]
    }
   ],
   "source": [
    "# Importing the random module to generate random numbers\n",
    "import random\n",
    "\n",
    "# Creating a list of 5 random numbers between 1 and 100\n",
    "random_numbers = [random.randint(1, 100) for _ in range(5)]\n",
    "\n",
    "# Sorting the list in ascending order\n",
    "random_numbers.sort()\n",
    "\n",
    "# Printing the sorted list\n",
    "print(\"Sorted list of random numbers:\", random_numbers)\n"
   ]
  },
  {
   "cell_type": "code",
   "execution_count": 55,
   "id": "e59739ef-2d23-40ca-a27a-380d89f3b010",
   "metadata": {},
   "outputs": [
    {
     "name": "stdout",
     "output_type": "stream",
     "text": [
      "The element at the third index is: date\n"
     ]
    }
   ],
   "source": [
    "# Creating a list with strings\n",
    "my_list = [\"apple\", \"banana\", \"cherry\", \"date\", \"elderberry\"]\n",
    "\n",
    "# Accessing the element at the third index (4th element)\n",
    "element_at_third_index = my_list[3]\n",
    "print(\"The element at the third index is:\", element_at_third_index)\n"
   ]
  },
  {
   "cell_type": "code",
   "execution_count": 57,
   "id": "28e72d24-0289-404d-92e9-becd054b3185",
   "metadata": {},
   "outputs": [
    {
     "name": "stdout",
     "output_type": "stream",
     "text": [
      "Combined dictionary: {'name': 'Alice', 'age': 25, 'city': 'Paris', 'country': 'France'}\n"
     ]
    }
   ],
   "source": [
    "# Creating two dictionaries\n",
    "dict1 = {'name': 'Alice', 'age': 25}\n",
    "dict2 = {'city': 'Paris', 'country': 'France'}\n",
    "\n",
    "# Combining the two dictionaries\n",
    "combined_dict = {**dict1, **dict2}\n",
    "\n",
    "# Printing the combined dictionary\n",
    "print(\"Combined dictionary:\", combined_dict)\n"
   ]
  },
  {
   "cell_type": "code",
   "execution_count": 59,
   "id": "b7b975db-4ca4-42a5-9543-4977d44036d3",
   "metadata": {},
   "outputs": [
    {
     "name": "stdout",
     "output_type": "stream",
     "text": [
      "The set is: {'banana', 'date', 'cherry', 'apple'}\n"
     ]
    }
   ],
   "source": [
    "# Creating a list of strings\n",
    "my_list = [\"apple\", \"banana\", \"cherry\", \"apple\", \"date\"]\n",
    "\n",
    "# Converting the list into a set (removing duplicates)\n",
    "my_set = set(my_list)\n",
    "\n",
    "# Printing the set\n",
    "print(\"The set is:\", my_set)\n"
   ]
  },
  {
   "cell_type": "code",
   "execution_count": null,
   "id": "b4e505e7-a4af-4f91-93a9-9c9364b6a7a1",
   "metadata": {},
   "outputs": [],
   "source": []
  }
 ],
 "metadata": {
  "kernelspec": {
   "display_name": "Python [conda env:base] *",
   "language": "python",
   "name": "conda-base-py"
  },
  "language_info": {
   "codemirror_mode": {
    "name": "ipython",
    "version": 3
   },
   "file_extension": ".py",
   "mimetype": "text/x-python",
   "name": "python",
   "nbconvert_exporter": "python",
   "pygments_lexer": "ipython3",
   "version": "3.12.7"
  }
 },
 "nbformat": 4,
 "nbformat_minor": 5
}
